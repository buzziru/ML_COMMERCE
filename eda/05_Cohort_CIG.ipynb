{
 "cells": [
  {
   "cell_type": "code",
   "execution_count": null,
   "metadata": {},
   "outputs": [],
   "source": [
    "import mysql.connector\n",
    "import pandas as pd\n",
    "import numpy as np\n",
    "import os\n",
    "from dotenv import load_dotenv\n",
    "import matplotlib.pyplot as plt\n",
    "import matplotlib.cm as cm\n",
    "import seaborn as sns\n",
    "from matplotlib import rc\n",
    "%matplotlib inline\n",
    "rc('font', family='Malgun Gothic')\n",
    "plt.rcParams['axes.unicode_minus'] = False\n",
    "\n",
    "pd.set_option('display.max_rows', 50)\n",
    "pd.set_option('display.max_columns', 15) "
   ]
  },
  {
   "cell_type": "code",
   "execution_count": null,
   "metadata": {},
   "outputs": [],
   "source": [
    "dotenv_path = \"../.env\"\n",
    "load_dotenv(dotenv_path)\n",
    "\n",
    "db_user = os.getenv(\"DB_USER\")\n",
    "db_password = os.getenv(\"DB_PASSWORD\")\n",
    "db_host = os.getenv(\"DB_HOST\")\n",
    "db_port = os.getenv(\"DB_PORT\")\n",
    "db_name = os.getenv(\"DB_NAME\")\n",
    "\n",
    "conn = mysql.connector.connect(\n",
    "    host = db_host,\n",
    "    port = db_port,\n",
    "    database = db_name,\n",
    "    user = db_user,\n",
    "    password = db_password\n",
    ")\n",
    "\n",
    "mycursor = conn.cursor()\n",
    "\n",
    "def show_sql_result(sql):\n",
    "       mycursor.execute(sql)\n",
    "       rows = mycursor.fetchall()\n",
    "       columns = [column[0] for column in mycursor.description]\n",
    "       table_data = pd.DataFrame(rows, columns=columns)\n",
    "       return table_data"
   ]
  },
  {
   "cell_type": "code",
   "execution_count": null,
   "metadata": {},
   "outputs": [],
   "source": [
    "sql = '''\n",
    "SELECT\n",
    "    CustomerID,\n",
    "FROM\n",
    "    sales\n",
    "GROUP BY\n",
    "    \n",
    ";\n",
    "'''\n",
    "data = show_sql_result(sql)\n",
    "data"
   ]
  },
  {
   "cell_type": "code",
   "execution_count": null,
   "metadata": {},
   "outputs": [],
   "source": []
  }
 ],
 "metadata": {
  "kernelspec": {
   "display_name": "ds_study",
   "language": "python",
   "name": "python3"
  },
  "language_info": {
   "name": "python",
   "version": "3.8.18"
  }
 },
 "nbformat": 4,
 "nbformat_minor": 2
}
